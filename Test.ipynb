{
 "cells": [
  {
   "cell_type": "code",
   "execution_count": null,
   "metadata": {},
   "outputs": [],
   "source": [
    "\n",
    "\n",
    "import vtk\n",
    "from vtk import (vtkSphereSource, vtkPolyDataMapper, vtkActor, vtkRenderer,\n",
    "        vtkRenderWindow, vtkWindowToImageFilter, vtkPNGWriter)\n",
    "\n",
    "def main():\n",
    "    sphereSource = vtkSphereSource()\n",
    "    sphereSource.SetPhiResolution(200)\n",
    "    sphereSource.SetThetaResolution(200)\n",
    "    mapper = vtkPolyDataMapper()\n",
    "    mapper.SetInputConnection(sphereSource.GetOutputPort())\n",
    "\n",
    "    actor = vtkActor()\n",
    "    actor.SetMapper(mapper)\n",
    "    actor.GetProperty().SetColor(1,1,0)\n",
    "\n",
    "    renderer = vtkRenderer()\n",
    "    renderer.AddActor(actor)\n",
    "    renderer.SetBackground(1, 1, 1)\n",
    "if __name__ == '__main__':\n",
    "    main()\n",
    "\n",
    "def vtk_show(renderer, w=100, h=100):\n",
    "    renderWindow = vtkRenderWindow()\n",
    "    renderWindow.SetOffScreenRendering(1)\n",
    "    renderWindow.AddRenderer(renderer)\n",
    "    renderWindow.SetSize(w, h)\n",
    "    renderWindow.Render()\n",
    "     \n",
    "    windowToImageFilter = vtkWindowToImageFilter()\n",
    "    windowToImageFilter.SetInput(renderWindow)\n",
    "    windowToImageFilter.Update()\n",
    "     \n",
    "    writer = vtkPNGWriter()\n",
    "    writer.SetWriteToMemory(1)\n",
    "    writer.SetInputConnection(windowToImageFilter.GetOutputPort())\n",
    "    writer.Write()\n",
    "    data = str(buffer(writer.GetResult()))\n",
    "    \n",
    "    from IPython.display import Image\n",
    "    return Image(data)\n",
    "\n",
    "vtk_show(renderer, 200, 200)"
   ]
  },
  {
   "cell_type": "code",
   "execution_count": null,
   "metadata": {},
   "outputs": [],
   "source": []
  }
 ],
 "metadata": {
  "kernelspec": {
   "display_name": "Python 3",
   "language": "python",
   "name": "python3"
  },
  "language_info": {
   "codemirror_mode": {
    "name": "ipython",
    "version": 3
   },
   "file_extension": ".py",
   "mimetype": "text/x-python",
   "name": "python",
   "nbconvert_exporter": "python",
   "pygments_lexer": "ipython3",
   "version": "3.5.6"
  }
 },
 "nbformat": 4,
 "nbformat_minor": 2
}
